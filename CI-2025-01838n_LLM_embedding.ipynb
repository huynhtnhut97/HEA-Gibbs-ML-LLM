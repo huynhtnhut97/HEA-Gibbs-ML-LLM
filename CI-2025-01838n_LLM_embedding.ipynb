{
 "cells": [
  {
   "cell_type": "code",
   "execution_count": 1,
   "id": "40d8af42",
   "metadata": {},
   "outputs": [],
   "source": [
    "import pandas as pd\n",
    "import tiktoken\n",
    "from openai import OpenAI\n",
    "\n",
    "# Initialize the OpenAI client\n",
    "client = OpenAI(api_key=\"OPENAI_API_KEY\")\n",
    "\n",
    "def get_embedding(text, model=\"GPT-4o\"):\n",
    "    # Clean and preprocess the text\n",
    "    text = text.replace(\"\\n\", \" \")\n",
    "    # Generate the embedding\n",
    "    return client.embeddings.create(input=[text], model=model).data[0].embedding\n"
   ]
  },
  {
   "cell_type": "code",
   "execution_count": 2,
   "id": "6aecaa4e",
   "metadata": {},
   "outputs": [],
   "source": [
    "# Load your dataset\n",
    "file_path = \"/home1/nhuynh2023/datasets/PDF_HEA_Gibbs/HEA_Dataset.csv\"\n",
    "dataset = pd.read_csv(file_path)\n",
    "\n",
    "# Create combined prompt column\n",
    "dataset[\"prompt\"] = (\n",
    "    \"Alloy composition: \" +\n",
    "    dataset[\"Fe\"].astype(str) + \", Co=\" +\n",
    "    dataset[\"Co\"].astype(str) + \", Ni=\" +\n",
    "    dataset[\"Ni\"].astype(str) + \", Cu=\" +\n",
    "    dataset[\"Cu\"].astype(str) + \", Zn=\" +\n",
    "    dataset[\"Zn\"].astype(str) +\n",
    "    \"\\nActive sites: \" + dataset[\"active_site_1\"] + \", \" + dataset[\"active_site_2\"]\n",
    ")\n"
   ]
  },
  {
   "cell_type": "code",
   "execution_count": 3,
   "id": "fdd98aad",
   "metadata": {},
   "outputs": [],
   "source": [
    "# Token limit and encoding setup\n",
    "embedding_model = \"GPT-4o\"\n",
    "embedding_encoding = \"cl100k_base\"\n",
    "max_tokens = 8000  # Token limit for the embedding model\n",
    "\n",
    "encoding = tiktoken.get_encoding(embedding_encoding)\n",
    "\n",
    "# Calculate the number of tokens in each prompt\n",
    "dataset[\"n_tokens\"] = dataset[\"prompt\"].apply(lambda x: len(encoding.encode(x)))\n",
    "\n",
    "# Filter out prompts that exceed the token limit\n",
    "dataset = dataset[dataset[\"n_tokens\"] <= max_tokens]\n"
   ]
  },
  {
   "cell_type": "code",
   "execution_count": 4,
   "id": "abab55ef",
   "metadata": {},
   "outputs": [
    {
     "name": "stdout",
     "output_type": "stream",
     "text": [
      "Embeddings saved to /home1/nhuynh2023/datasets/PDF_HEA_Gibbs/HEA_Dataset_with_embeddings.csv\n"
     ]
    }
   ],
   "source": [
    "# Generate embeddings for all samples\n",
    "dataset[\"embedding\"] = dataset[\"prompt\"].apply(lambda x: get_embedding(x, model=embedding_model))\n",
    "\n",
    "# Save the dataset with embeddings\n",
    "output_path = \"/home1/nhuynh2023/datasets/PDF_HEA_Gibbs/HEA_Dataset_with_embeddings.csv\"  # Specify your output path\n",
    "dataset.to_csv(output_path, index=False)\n",
    "\n",
    "print(f\"Embeddings saved to {output_path}\")\n"
   ]
  },
  {
   "cell_type": "code",
   "execution_count": null,
   "id": "dde5dfa9",
   "metadata": {},
   "outputs": [],
   "source": []
  }
 ],
 "metadata": {
  "kernelspec": {
   "display_name": "GPU1",
   "language": "python",
   "name": "gpu1"
  },
  "language_info": {
   "codemirror_mode": {
    "name": "ipython",
    "version": 3
   },
   "file_extension": ".py",
   "mimetype": "text/x-python",
   "name": "python",
   "nbconvert_exporter": "python",
   "pygments_lexer": "ipython3",
   "version": "3.9.16"
  }
 },
 "nbformat": 4,
 "nbformat_minor": 5
}
